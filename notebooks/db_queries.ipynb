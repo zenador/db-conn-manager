{
 "cells": [
  {
   "cell_type": "code",
   "execution_count": null,
   "metadata": {},
   "outputs": [],
   "source": [
    "import pandas as pd\n",
    "pd.set_option('display.max_columns', None)\n",
    "pd.set_option('display.max_rows', 200)\n",
    "pd.set_option('display.max_colwidth', -1)\n",
    "\n",
    "import sys\n",
    "for shared_dir in ['../']:\n",
    "    if shared_dir not in sys.path:\n",
    "        sys.path.append(shared_dir)\n",
    "\n",
    "from dcm.db import DbHelper\n",
    "from dcm.db_runner import DbRunner\n",
    "from dcm.formatter import sparkprint, sparkprintf, format_nicely, format_nicely_mysql\n",
    "from config.connections import connDetailsPublic\n",
    "\n",
    "db = DbHelper()\n",
    "# db.set_transient(\"token\", \"\")\n",
    "db.prepare_databases(connDetailsPublic)\n",
    "\n",
    "dbr = DbRunner(db, name=\"\")"
   ]
  },
  {
   "cell_type": "code",
   "execution_count": null,
   "metadata": {},
   "outputs": [],
   "source": [
    "# a = dbr.run_saved_query(name=\"\", params={\n",
    "# }, logquery=True, logresult=False)\n",
    "# a"
   ]
  },
  {
   "cell_type": "code",
   "execution_count": null,
   "metadata": {},
   "outputs": [],
   "source": [
    "# a = dbr.replay_query(timestamp=0, trycache=True, logquery=False, logresult=False)\n",
    "# a"
   ]
  },
  {
   "cell_type": "code",
   "execution_count": null,
   "metadata": {},
   "outputs": [],
   "source": [
    "a = dbr.run_query(query=\"\"\"\n",
    "show tables\n",
    "\"\"\", params={\n",
    "}, logquery=True, logresult=False, dbname=\"rfam\", name=None, dblpct=False)\n",
    "a"
   ]
  },
  {
   "cell_type": "code",
   "execution_count": null,
   "metadata": {},
   "outputs": [],
   "source": []
  }
 ],
 "metadata": {
  "kernelspec": {
   "name": "python3",
   "display_name": "Python 3.8.2 64-bit ('vien')",
   "metadata": {
    "interpreter": {
     "hash": "02b72edbed5a812d5d9df2f0031509e3785bfc09be8ab0c3e65544aab48d56a2"
    }
   }
  },
  "language_info": {
   "codemirror_mode": {
    "name": "ipython",
    "version": 3
   },
   "file_extension": ".py",
   "mimetype": "text/x-python",
   "name": "python",
   "nbconvert_exporter": "python",
   "pygments_lexer": "ipython3",
   "version": "3.8.2-final"
  }
 },
 "nbformat": 4,
 "nbformat_minor": 2
}